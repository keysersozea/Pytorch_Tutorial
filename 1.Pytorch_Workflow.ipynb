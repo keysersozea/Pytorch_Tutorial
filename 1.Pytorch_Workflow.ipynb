{
 "cells": [
  {
   "cell_type": "markdown",
   "metadata": {},
   "source": [
    "# PyTorch Workflow"
   ]
  },
  {
   "cell_type": "markdown",
   "metadata": {},
   "source": [
    "Explore an example PyTorch end to end workflow.\n",
    "\n",
    "What this notebook covering:\n",
    "\n",
    "1. Data preparing and loading\n",
    "2. Building models\n",
    "3. Fitting the model to data (training)\n",
    "4. Making predictions and evaluating a model (inference)\n",
    "5. Saving and loading a model\n",
    "6. Putting it all together\n",
    "\n",
    "https://pytorch.org/docs/stable/nn.html"
   ]
  },
  {
   "cell_type": "code",
   "execution_count": 1,
   "metadata": {},
   "outputs": [
    {
     "data": {
      "text/plain": [
       "'2.2.1'"
      ]
     },
     "execution_count": 1,
     "metadata": {},
     "output_type": "execute_result"
    }
   ],
   "source": [
    "import torch\n",
    "from torch import nn\n",
    "import matplotlib.pyplot as plt\n",
    "\n",
    "torch.__version__"
   ]
  },
  {
   "cell_type": "markdown",
   "metadata": {},
   "source": [
    "## 1. Data (preparing and learning)\n",
    "\n",
    "Data can be almost anything... in machine learning\n",
    "\n",
    "Machine learning is a game of two parts:\n",
    "\n",
    "1. Get data into a numerical representation\n",
    "2. Build a model to learn patterns in that numerical representations\n",
    "\n",
    "To showcase this, let's create some *known* data using the linear regression formula.\n",
    "We'll use a linear regression formula to make a straight line with *known* **parameters**\n"
   ]
  },
  {
   "cell_type": "code",
   "execution_count": 3,
   "metadata": {},
   "outputs": [
    {
     "data": {
      "text/plain": [
       "(50, 50)"
      ]
     },
     "execution_count": 3,
     "metadata": {},
     "output_type": "execute_result"
    }
   ],
   "source": [
    "# Create 'known' parameters\n",
    "weight = 0.7\n",
    "bias = 0.3\n",
    "\n",
    "# Create\n",
    "start = 0\n",
    "end = 1\n",
    "step = 0.02\n",
    "X = torch.arange(start, end, step).unsqueeze(dim=1)\n",
    "y = X * weight + bias\n",
    "\n",
    "len(X), len(y)"
   ]
  },
  {
   "cell_type": "markdown",
   "metadata": {},
   "source": [
    "### Splitting data into training and test sets\n",
    "\n",
    "Let's create a training and test set with our data"
   ]
  },
  {
   "cell_type": "code",
   "execution_count": 4,
   "metadata": {},
   "outputs": [],
   "source": [
    "# Split the data into training and testing\n",
    "split = int(len(X) * 0.8)\n",
    "X_train, X_test = X[:split], X[split:]\n",
    "y_train, y_test = y[:split], y[split:]"
   ]
  },
  {
   "cell_type": "markdown",
   "metadata": {},
   "source": [
    "## 2. Build model"
   ]
  },
  {
   "cell_type": "code",
   "execution_count": 5,
   "metadata": {},
   "outputs": [],
   "source": [
    "class LinearRegressionModel(nn.Module): # Subclass nn.Module contains all the building blocks for neural networks\n",
    "    def __init__(self):\n",
    "        super().__init__()\n",
    "        \n",
    "        # Initialize model parameters   --    These could be different layers from torch.nn, single parameters, etc)\n",
    "        self.weight = nn.Parameter(torch.rand(1,  # Modelin öğrenebilir parametreleri nn.Parameter ile tanımlanmalı\n",
    "                                              requires_grad=True,  # Pytorch will keep track gradient of this for use with torch.autograd and gradient descent\n",
    "                                              dtype=float))\n",
    "        self.bias = nn.Parameter(torch.rand(1,\n",
    "                                              requires_grad=True,  \n",
    "                                              dtype=float))\n",
    "    def forward(self, X: torch.Tensor) -> torch.Tensor:    # Any subclass of nn.Module needs to override forward() (this defines forward computation of the model)\n",
    "        return self.weight * X + self.bias"
   ]
  },
  {
   "cell_type": "markdown",
   "metadata": {},
   "source": [
    "### PyTorch model building essentials\n",
    "\n",
    "PyTorch has four (give or take) essential modules you can use to create almost any kind of neural network you can imagine.\n",
    "\n",
    "They are [`torch.nn`](https://pytorch.org/docs/stable/nn.html), [`torch.optim`](https://pytorch.org/docs/stable/optim.html), [`torch.utils.data.Dataset`](https://pytorch.org/docs/stable/data.html#torch.utils.data.Dataset) and [`torch.utils.data.DataLoader`](https://pytorch.org/docs/stable/data.html). For now, we'll focus on the first two and get to the other two later (though you may be able to guess what they do).\n",
    "\n",
    "| PyTorch module | What does it do? |\n",
    "| ----- | ----- |\n",
    "| [`torch.nn`](https://pytorch.org/docs/stable/nn.html) | Contains all of the building blocks for computational graphs (essentially a series of computations executed in a particular way). |\n",
    "| [`torch.nn.Parameter`](https://pytorch.org/docs/stable/generated/torch.nn.parameter.Parameter.html#parameter) | Stores tensors that can be used with `nn.Module`. If `requires_grad=True` gradients (used for updating model parameters via [**gradient descent**](https://ml-cheatsheet.readthedocs.io/en/latest/gradient_descent.html))  are calculated automatically, this is often referred to as \"autograd\".  | \n",
    "| [`torch.nn.Module`](https://pytorch.org/docs/stable/generated/torch.nn.Module.html#torch.nn.Module) | The base class for all neural network modules, all the building blocks for neural networks are subclasses. If you're building a neural network in PyTorch, your models should subclass `nn.Module`. Requires a `forward()` method be implemented. | \n",
    "| [`torch.optim`](https://pytorch.org/docs/stable/optim.html) | Contains various optimization algorithms (these tell the model parameters stored in `nn.Parameter` how to best change to improve gradient descent and in turn reduce the loss). | \n",
    "| `def forward()` | All `nn.Module` subclasses require a `forward()` method, this defines the computation that will take place on the data passed to the particular `nn.Module` (e.g. the linear regression formula above). |\n",
    "\n",
    "If the above sounds complex, think of like this, almost everything in a PyTorch neural network comes from `torch.nn`,\n",
    "* `nn.Module` contains the larger building blocks (layers)\n",
    "* `nn.Parameter` contains the smaller parameters like weights and biases (put these together to make `nn.Module`(s))\n",
    "* `forward()` tells the larger blocks how to make calculations on inputs (tensors full of data) within  `nn.Module`(s)\n",
    "* `torch.optim` contains optimization methods on how to improve the parameters within `nn.Parameter` to better represent input data \n",
    "\n",
    "> **Resource:** See more of these essential modules and their uses cases in the [PyTorch Cheat Sheet](https://pytorch.org/tutorials/beginner/ptcheat.html). \n"
   ]
  },
  {
   "cell_type": "markdown",
   "metadata": {},
   "source": [
    "### Checking the contents of a PyTorch model\n",
    "\n",
    "Now we've got these out of the way, let's create a model instance with the class we've made and check its parameters using .parameters()."
   ]
  },
  {
   "cell_type": "code",
   "execution_count": 6,
   "metadata": {},
   "outputs": [
    {
     "data": {
      "text/plain": [
       "[Parameter containing:\n",
       " tensor([0.0582], dtype=torch.float64, requires_grad=True),\n",
       " Parameter containing:\n",
       " tensor([0.0629], dtype=torch.float64, requires_grad=True)]"
      ]
     },
     "execution_count": 6,
     "metadata": {},
     "output_type": "execute_result"
    }
   ],
   "source": [
    "import torch\n",
    "from torch import nn\n",
    "# Create a random seed\n",
    "torch.manual_seed(42)\n",
    "\n",
    "# Create a instance of a model\n",
    "model_0 = LinearRegressionModel()\n",
    "\n",
    "# Check out the parameters\n",
    "list(model_0.parameters())\n"
   ]
  },
  {
   "cell_type": "code",
   "execution_count": 8,
   "metadata": {},
   "outputs": [
    {
     "data": {
      "text/plain": [
       "OrderedDict([('weight', tensor([0.0582], dtype=torch.float64)),\n",
       "             ('bias', tensor([0.0629], dtype=torch.float64))])"
      ]
     },
     "execution_count": 8,
     "metadata": {},
     "output_type": "execute_result"
    }
   ],
   "source": [
    "# List named parameters\n",
    "model_0.state_dict()"
   ]
  },
  {
   "cell_type": "markdown",
   "metadata": {},
   "source": [
    "### Making predictions using `torch.inference_mode()`\n",
    "\n",
    "To check this we can pass it the test data `X_test` to see how closely it predicts `y_test`.\n",
    "\n",
    "When we pass data to our model, it'll go through the model's `forward()` method and produce a result using the computation we've defined.\n",
    "\n",
    "Let's make some predictions.\n",
    "\n",
    "\n"
   ]
  },
  {
   "cell_type": "code",
   "execution_count": 7,
   "metadata": {},
   "outputs": [
    {
     "data": {
      "text/plain": [
       "tensor([[0.1094],\n",
       "        [0.1106],\n",
       "        [0.1118],\n",
       "        [0.1129],\n",
       "        [0.1141],\n",
       "        [0.1152],\n",
       "        [0.1164],\n",
       "        [0.1176],\n",
       "        [0.1187],\n",
       "        [0.1199]], dtype=torch.float64)"
      ]
     },
     "execution_count": 7,
     "metadata": {},
     "output_type": "execute_result"
    }
   ],
   "source": [
    "# Make predictions with model\n",
    "with torch.inference_mode():\n",
    "    y.preds = model_0(X_test)\n",
    "y.preds \n",
    "# Results are very bad, since model is not trained\n",
    "\n",
    "# Note: in older PyTorch code you might also see torch.no_grad()\n",
    "# with torch.no_grad():\n",
    "#   y_preds = model_0(X_test)\n"
   ]
  },
  {
   "cell_type": "markdown",
   "metadata": {},
   "source": [
    "As the name suggests, `torch.inference_mode()` is used when using a model for inference (making predictions).\n",
    "\n",
    "`torch.inference_mode()` turns off a bunch of things (like gradient tracking, which is necessary for training but not for inference) to make forward-passes (data going through the forward() method) faster."
   ]
  },
  {
   "cell_type": "markdown",
   "metadata": {},
   "source": [
    "You can directly use `y.preds = model_0(X_test)` but using `torch.inference_mode()` is more efficient"
   ]
  },
  {
   "cell_type": "markdown",
   "metadata": {},
   "source": [
    "## 3. Train model\n",
    "\n",
    "The whole idea of training is for a model to move from some *unknown* paramters (these may be random) to *known* parameters.\n",
    "\n",
    "Or in other words from a poor representation of the data to a better representation of the data.\n",
    "\n",
    "One way to measure how poor or how wrong your models predictions are is to use a loss function."
   ]
  },
  {
   "cell_type": "markdown",
   "metadata": {},
   "source": [
    "### Creating a loss function and optimizer in PyTorch\n",
    "\n",
    "For our model to update its parameters on its own, we'll need to add a few more things to our recipe.\n",
    "\n",
    "And that's a **loss function** as well as an **optimizer**.\n",
    "\n",
    "The rolls of these are: \n",
    "\n",
    "| Function | What does it do? | Where does it live in PyTorch? | Common values |\n",
    "| ----- | ----- | ----- | ----- |\n",
    "| **Loss function** | Measures how wrong your models predictions (e.g. `y_preds`) are compared to the truth labels (e.g. `y_test`). Lower the better. | PyTorch has plenty of built-in loss functions in [`torch.nn`](https://pytorch.org/docs/stable/nn.html#loss-functions). | Mean absolute error (MAE) for regression problems ([`torch.nn.L1Loss()`](https://pytorch.org/docs/stable/generated/torch.nn.L1Loss.html)). Binary cross entropy for binary classification problems ([`torch.nn.BCELoss()`](https://pytorch.org/docs/stable/generated/torch.nn.BCELoss.html)).  |\n",
    "| **Optimizer** | Tells your model how to update its internal parameters to best lower the loss. | You can find various optimization function implementations in [`torch.optim`](https://pytorch.org/docs/stable/optim.html). | Stochastic gradient descent ([`torch.optim.SGD()`](https://pytorch.org/docs/stable/generated/torch.optim.SGD.html#torch.optim.SGD)). Adam optimizer ([`torch.optim.Adam()`](https://pytorch.org/docs/stable/generated/torch.optim.Adam.html#torch.optim.Adam)). | \n",
    "\n",
    "Let's create a loss function and an optimizer we can use to help improve our model.\n",
    "\n",
    "Depending on what kind of problem you're working on will depend on what loss function and what optimizer you use.\n",
    "\n",
    "However, there are some common values, that are known to work well such as the SGD (stochastic gradient descent) or Adam optimizer. And the MAE (mean absolute error) loss function for regression problems (predicting a number) or binary cross entropy loss function for classification problems (predicting one thing or another). \n",
    "\n",
    "For our problem, since we're predicting a number, let's use MAE (which is under `torch.nn.L1Loss()`) in PyTorch as our loss function.\n",
    "\n",
    "And we'll use SGD, torch.optim.SGD(params, lr) where:\n",
    "\n",
    "params is the target model parameters you'd like to optimize (e.g. the weights and bias values we randomly set before).\n",
    "lr is the learning rate you'd like the optimizer to update the parameters at, higher means the optimizer will try larger updates (these can sometimes be too large and the optimizer will fail to work), lower means the optimizer will try smaller updates (these can sometimes be too small and the optimizer will take too long to find the ideal values). The learning rate is considered a hyperparameter (because it's set by a machine learning engineer). Common starting values for the learning rate are 0.01, 0.001, 0.0001, however, these can also be adjusted over time (this is called learning rate scheduling)."
   ]
  },
  {
   "cell_type": "code",
   "execution_count": 8,
   "metadata": {},
   "outputs": [],
   "source": [
    "# Setup a loss function\n",
    "loss_fn = nn.L1Loss()\n",
    "\n",
    "# Setup an optimizer (stochastic gradient descent)\n",
    "optimizer = torch.optim.SGD(params=model_0.parameters(),   # parameters to optimize \n",
    "                      lr=0.01) # lr: learning rate"
   ]
  },
  {
   "cell_type": "markdown",
   "metadata": {},
   "source": [
    "\n",
    "\n",
    "### PyTorch training loop\n",
    "For the training loop, we'll build the following steps:\n",
    "\n",
    "| Number | Step name | What does it do? | Code example |\n",
    "| ----- | ----- | ----- | ----- |\n",
    "| 1 | Forward pass | The model goes through all of the training data once, performing its `forward()` function calculations. | `model(x_train)` |\n",
    "| 2 | Calculate the loss | The model's outputs (predictions) are compared to the ground truth and evaluated to see how wrong they are. | `loss = loss_fn(y_pred, y_train)` | \n",
    "| 3 | Zero gradients | The optimizers gradients are set to zero (they are accumulated by default) so they can be recalculated for the specific training step. | `optimizer.zero_grad()` |\n",
    "| 4 | Perform backpropagation on the loss | Computes the gradient of the loss with respect for every model parameter to be updated  (each parameter with `requires_grad=True`). This is known as **backpropagation**, hence \"backwards\".  | `loss.backward()` |\n",
    "| 5 | Update the optimizer (**gradient descent**) | Update the parameters with `requires_grad=True` with respect to the loss gradients in order to improve them. | `optimizer.step()` |\n",
    "\n",
    "Another explanations:\n",
    "\n",
    "0. Loop through data\n",
    "1. Forward pass (this involves data moving through our model's `forward()` function) to make predictions on data - also called forward propagations\n",
    "2. Calculate the loss (compare forward pass predictions to ground truth labels)\n",
    "3. Optimizer zero grad\n",
    "4. Loss backward - move backwards through the network to calculate the gradients of each parameters of our model with respect to the loss\n",
    "5. Optimizer step - use the optimizer to adjust our model's parameters to try and improve the loss (**gradient descent**)\n",
    "\n",
    "![pytorch training loop annotated](https://raw.githubusercontent.com/mrdbourke/pytorch-deep-learning/main/images/01-pytorch-training-loop-annotated.png)\n",
    "\n",
    "> **Note:** The above is just one example of how the steps could be ordered or described. With experience you'll find making PyTorch training loops can be quite flexible.\n",
    ">\n",
    "> And on the ordering of things, the above is a good default order but you may see slightly different orders. Some rules of thumb: \n",
    "> * Calculate the loss (`loss = ...`) *before* performing backpropagation on it (`loss.backward()`).\n",
    "> * Zero gradients (`optimizer.zero_grad()`) *before* stepping them (`optimizer.step()`).\n",
    "> * Step the optimizer (`optimizer.step()`) *after* performing backpropagation on the loss (`loss.backward()`).\n",
    "\n",
    "For resources to help understand what's happening behind the scenes with backpropagation and gradient descent, see the extra-curriculum section."
   ]
  },
  {
   "cell_type": "code",
   "execution_count": 9,
   "metadata": {},
   "outputs": [
    {
     "name": "stdout",
     "output_type": "stream",
     "text": [
      "Epoch: 0 |  Loss: 0.48740957954762054 | Test Loss: 0.7948613474299793\n",
      "Epoch: 10 |  Loss: 0.37219958028567507 | Test Loss: 0.6601513479001855\n",
      "Epoch: 20 |  Loss: 0.25698958102372954 | Test Loss: 0.5254413483703916\n",
      "Epoch: 30 |  Loss: 0.15880869663761565 | Test Loss: 0.40255174883521166\n",
      "Epoch: 40 |  Loss: 0.11402923588994826 | Test Loss: 0.31734834924472094\n",
      "Epoch: 50 |  Loss: 0.0956925529346293 | Test Loss: 0.26267344957748173\n",
      "Epoch: 60 |  Loss: 0.08738441897884866 | Test Loss: 0.22768154985825237\n",
      "Epoch: 70 |  Loss: 0.08259710290923128 | Test Loss: 0.20586695010039308\n",
      "Epoch: 80 |  Loss: 0.07876590153399285 | Test Loss: 0.19077895030586509\n",
      "Epoch: 90 |  Loss: 0.07527590166542106 | Test Loss: 0.17975895045912335\n",
      "Epoch: 100 |  Loss: 0.07178590179684927 | Test Loss: 0.16873895061238167\n",
      "Epoch: 110 |  Loss: 0.06831850502523909 | Test Loss: 0.15909275075797485\n",
      "Epoch: 120 |  Loss: 0.06488270204802468 | Test Loss: 0.15082035089590293\n",
      "Epoch: 130 |  Loss: 0.06144501523411564 | Test Loss: 0.14323485102999844\n",
      "Epoch: 140 |  Loss: 0.05801657533938964 | Test Loss: 0.13496245116792652\n",
      "Epoch: 150 |  Loss: 0.054579102417000494 | Test Loss: 0.1266900513058546\n",
      "Epoch: 160 |  Loss: 0.0511430855482662 | Test Loss: 0.1191045514399501\n",
      "Epoch: 170 |  Loss: 0.047714302662335416 | Test Loss: 0.11083215157787815\n",
      "Epoch: 180 |  Loss: 0.04427550278597629 | Test Loss: 0.1025597517158062\n",
      "Epoch: 190 |  Loss: 0.040841155862416774 | Test Loss: 0.09497425184990174\n",
      "Epoch: 200 |  Loss: 0.03741070303131122 | Test Loss: 0.08670185198782983\n",
      "Epoch: 210 |  Loss: 0.03397190315495212 | Test Loss: 0.07842945212575801\n",
      "Epoch: 220 |  Loss: 0.030539226176567364 | Test Loss: 0.0708439522598535\n",
      "Epoch: 230 |  Loss: 0.027107103400287064 | Test Loss: 0.0625715523977817\n",
      "Epoch: 240 |  Loss: 0.023668303523927965 | Test Loss: 0.05429915253570986\n",
      "Epoch: 250 |  Loss: 0.02023729649071796 | Test Loss: 0.04671365266980534\n",
      "Epoch: 260 |  Loss: 0.016803503769262918 | Test Loss: 0.03844125280773354\n",
      "Epoch: 270 |  Loss: 0.013364703892903812 | Test Loss: 0.03016885294566176\n",
      "Epoch: 280 |  Loss: 0.009935366804868565 | Test Loss: 0.022583353079757184\n",
      "Epoch: 290 |  Loss: 0.006499904138238755 | Test Loss: 0.014310953217685374\n",
      "Epoch: 300 |  Loss: 0.00306187701374513 | Test Loss: 0.0067254533517808746\n",
      "Epoch: 310 |  Loss: 0.007536009114719158 | Test Loss: 0.008337753377971158\n",
      "Epoch: 320 |  Loss: 0.007536009114719158 | Test Loss: 0.008337753377971158\n",
      "Epoch: 330 |  Loss: 0.007536009114719158 | Test Loss: 0.008337753377971158\n",
      "Epoch: 340 |  Loss: 0.007536009114719158 | Test Loss: 0.008337753377971158\n",
      "Epoch: 350 |  Loss: 0.007536009114719158 | Test Loss: 0.008337753377971158\n",
      "Epoch: 360 |  Loss: 0.007536009114719158 | Test Loss: 0.008337753377971158\n",
      "Epoch: 370 |  Loss: 0.007536009114719158 | Test Loss: 0.008337753377971158\n",
      "Epoch: 380 |  Loss: 0.007536009114719158 | Test Loss: 0.008337753377971158\n",
      "Epoch: 390 |  Loss: 0.007536009114719158 | Test Loss: 0.008337753377971158\n",
      "Epoch: 400 |  Loss: 0.007536009114719158 | Test Loss: 0.008337753377971158\n",
      "Epoch: 410 |  Loss: 0.007536009114719158 | Test Loss: 0.008337753377971158\n",
      "Epoch: 420 |  Loss: 0.007536009114719158 | Test Loss: 0.008337753377971158\n",
      "Epoch: 430 |  Loss: 0.007536009114719158 | Test Loss: 0.008337753377971158\n",
      "Epoch: 440 |  Loss: 0.007536009114719158 | Test Loss: 0.008337753377971158\n",
      "Epoch: 450 |  Loss: 0.007536009114719158 | Test Loss: 0.008337753377971158\n",
      "Epoch: 460 |  Loss: 0.007536009114719158 | Test Loss: 0.008337753377971158\n",
      "Epoch: 470 |  Loss: 0.007536009114719158 | Test Loss: 0.008337753377971158\n",
      "Epoch: 480 |  Loss: 0.007536009114719158 | Test Loss: 0.008337753377971158\n",
      "Epoch: 490 |  Loss: 0.007536009114719158 | Test Loss: 0.008337753377971158\n",
      "Epoch: 500 |  Loss: 0.007536009114719158 | Test Loss: 0.008337753377971158\n",
      "Epoch: 510 |  Loss: 0.007536009114719158 | Test Loss: 0.008337753377971158\n",
      "Epoch: 520 |  Loss: 0.007536009114719158 | Test Loss: 0.008337753377971158\n",
      "Epoch: 530 |  Loss: 0.007536009114719158 | Test Loss: 0.008337753377971158\n",
      "Epoch: 540 |  Loss: 0.007536009114719158 | Test Loss: 0.008337753377971158\n",
      "Epoch: 550 |  Loss: 0.007536009114719158 | Test Loss: 0.008337753377971158\n",
      "Epoch: 560 |  Loss: 0.007536009114719158 | Test Loss: 0.008337753377971158\n",
      "Epoch: 570 |  Loss: 0.007536009114719158 | Test Loss: 0.008337753377971158\n",
      "Epoch: 580 |  Loss: 0.007536009114719158 | Test Loss: 0.008337753377971158\n",
      "Epoch: 590 |  Loss: 0.007536009114719158 | Test Loss: 0.008337753377971158\n",
      "Epoch: 600 |  Loss: 0.007536009114719158 | Test Loss: 0.008337753377971158\n",
      "Epoch: 610 |  Loss: 0.007536009114719158 | Test Loss: 0.008337753377971158\n",
      "Epoch: 620 |  Loss: 0.007536009114719158 | Test Loss: 0.008337753377971158\n",
      "Epoch: 630 |  Loss: 0.007536009114719158 | Test Loss: 0.008337753377971158\n",
      "Epoch: 640 |  Loss: 0.007536009114719158 | Test Loss: 0.008337753377971158\n",
      "Epoch: 650 |  Loss: 0.007536009114719158 | Test Loss: 0.008337753377971158\n",
      "Epoch: 660 |  Loss: 0.007536009114719158 | Test Loss: 0.008337753377971158\n",
      "Epoch: 670 |  Loss: 0.007536009114719158 | Test Loss: 0.008337753377971158\n",
      "Epoch: 680 |  Loss: 0.007536009114719158 | Test Loss: 0.008337753377971158\n",
      "Epoch: 690 |  Loss: 0.007536009114719158 | Test Loss: 0.008337753377971158\n",
      "Epoch: 700 |  Loss: 0.007536009114719158 | Test Loss: 0.008337753377971158\n",
      "Epoch: 710 |  Loss: 0.007536009114719158 | Test Loss: 0.008337753377971158\n",
      "Epoch: 720 |  Loss: 0.007536009114719158 | Test Loss: 0.008337753377971158\n",
      "Epoch: 730 |  Loss: 0.007536009114719158 | Test Loss: 0.008337753377971158\n",
      "Epoch: 740 |  Loss: 0.007536009114719158 | Test Loss: 0.008337753377971158\n",
      "Epoch: 750 |  Loss: 0.007536009114719158 | Test Loss: 0.008337753377971158\n",
      "Epoch: 760 |  Loss: 0.007536009114719158 | Test Loss: 0.008337753377971158\n",
      "Epoch: 770 |  Loss: 0.007536009114719158 | Test Loss: 0.008337753377971158\n",
      "Epoch: 780 |  Loss: 0.007536009114719158 | Test Loss: 0.008337753377971158\n",
      "Epoch: 790 |  Loss: 0.007536009114719158 | Test Loss: 0.008337753377971158\n",
      "Epoch: 800 |  Loss: 0.007536009114719158 | Test Loss: 0.008337753377971158\n",
      "Epoch: 810 |  Loss: 0.007536009114719158 | Test Loss: 0.008337753377971158\n",
      "Epoch: 820 |  Loss: 0.007536009114719158 | Test Loss: 0.008337753377971158\n",
      "Epoch: 830 |  Loss: 0.007536009114719158 | Test Loss: 0.008337753377971158\n",
      "Epoch: 840 |  Loss: 0.007536009114719158 | Test Loss: 0.008337753377971158\n",
      "Epoch: 850 |  Loss: 0.007536009114719158 | Test Loss: 0.008337753377971158\n",
      "Epoch: 860 |  Loss: 0.007536009114719158 | Test Loss: 0.008337753377971158\n",
      "Epoch: 870 |  Loss: 0.007536009114719158 | Test Loss: 0.008337753377971158\n",
      "Epoch: 880 |  Loss: 0.007536009114719158 | Test Loss: 0.008337753377971158\n",
      "Epoch: 890 |  Loss: 0.007536009114719158 | Test Loss: 0.008337753377971158\n",
      "Epoch: 900 |  Loss: 0.007536009114719158 | Test Loss: 0.008337753377971158\n",
      "Epoch: 910 |  Loss: 0.007536009114719158 | Test Loss: 0.008337753377971158\n",
      "Epoch: 920 |  Loss: 0.007536009114719158 | Test Loss: 0.008337753377971158\n",
      "Epoch: 930 |  Loss: 0.007536009114719158 | Test Loss: 0.008337753377971158\n",
      "Epoch: 940 |  Loss: 0.007536009114719158 | Test Loss: 0.008337753377971158\n",
      "Epoch: 950 |  Loss: 0.007536009114719158 | Test Loss: 0.008337753377971158\n",
      "Epoch: 960 |  Loss: 0.007536009114719158 | Test Loss: 0.008337753377971158\n",
      "Epoch: 970 |  Loss: 0.007536009114719158 | Test Loss: 0.008337753377971158\n",
      "Epoch: 980 |  Loss: 0.007536009114719158 | Test Loss: 0.008337753377971158\n",
      "Epoch: 990 |  Loss: 0.007536009114719158 | Test Loss: 0.008337753377971158\n"
     ]
    }
   ],
   "source": [
    "# An epoch is one loop through the data... (this is a hyperparameter)\n",
    "epochs = 1000 # an epoch refers to one complete pass through entire dataset\n",
    "\n",
    "# Track different values\n",
    "epoch_count = []\n",
    "loss_values = []\n",
    "test_loss_values = []\n",
    "\n",
    "# 0. Loop through the data\n",
    "for epoch in range(epochs):\n",
    "    # Set model to train mode (this is the default state of the model)\n",
    "    model_0.train() # train mode in PyTorch sets all parameters that require gradients to require gradients\n",
    "    \n",
    "    # 1. Forward pass\n",
    "    y_pred = model_0(X_train)\n",
    "    \n",
    "    # 2. Calculate the loss\n",
    "    loss = loss_fn(y_pred, y_train)\n",
    "         \n",
    "    # 3. Optimizer zero grad\n",
    "    optimizer.zero_grad()\n",
    "    \n",
    "    # 4. Perform backpropagation on the loss with respect to the parameters of the model\n",
    "    loss.backward()\n",
    "    \n",
    "    # 5. Step the optimizer (perform gradient descent)\n",
    "    optimizer.step() # by default the optimizer changes will acumulate through the loop so we have to zero them above in step 3 for the next iteration of the loop\n",
    "    \n",
    "    \n",
    "    ### Testing\n",
    "    model_0.eval() # turns of different settings in the model not needed for evaluation/testing (dropout/batch norm layers, etc.)\n",
    "    with torch.inference_mode(): # (turns of gradient tracking & a couple more things behind)\n",
    "        # 1. Do the forward pass\n",
    "        test_pred = model_0(X_test)\n",
    "        \n",
    "        # 2. Calculate the loss\n",
    "        test_loss = loss_fn(test_pred, y_test)\n",
    "        \n",
    "    # Print out what's happening\n",
    "    if epoch % 10 == 0:\n",
    "        epoch_count.append(epoch)\n",
    "        loss_values.append(loss.detach().numpy())\n",
    "        test_loss_values.append(test_loss.detach().numpy())\n",
    "        print(f\"Epoch: {epoch} |  Loss: {loss} | Test Loss: {test_loss}\") \n",
    "        \n",
    "    \n",
    "    \n",
    "    "
   ]
  },
  {
   "cell_type": "code",
   "execution_count": 44,
   "metadata": {},
   "outputs": [
    {
     "name": "stdout",
     "output_type": "stream",
     "text": [
      "OrderedDict({'weight': tensor([0.6913], dtype=torch.float64), 'bias': tensor([0.2994], dtype=torch.float64)})\n"
     ]
    }
   ],
   "source": [
    "print(model_0.state_dict()) # Parameters are very close to the desired values"
   ]
  },
  {
   "cell_type": "code",
   "execution_count": 17,
   "metadata": {},
   "outputs": [
    {
     "name": "stdout",
     "output_type": "stream",
     "text": [
      "tensor([[0.8561],\n",
      "        [0.8699],\n",
      "        [0.8836],\n",
      "        [0.8974],\n",
      "        [0.9112],\n",
      "        [0.9249],\n",
      "        [0.9387],\n",
      "        [0.9525],\n",
      "        [0.9662],\n",
      "        [0.9800]], dtype=torch.float64)\n"
     ]
    }
   ],
   "source": []
  },
  {
   "cell_type": "code",
   "execution_count": 46,
   "metadata": {},
   "outputs": [
    {
     "data": {
      "image/png": "[encoded data removed]",
      "text/plain": [
       "<Figure size 640x480 with 1 Axes>"
      ]
     },
     "metadata": {},
     "output_type": "display_data"
    }
   ],
   "source": [
    "plt.plot(epoch_count, loss_values, label=\"Train loss\")\n",
    "plt.plot(epoch_count, test_loss_values, label=\"Test loss\")\n",
    "plt.title(\"Training and test loss curves\")\n",
    "plt.ylabel(\"Loss\")\n",
    "plt.xlabel(\"Epochs\")\n",
    "plt.legend();"
   ]
  },
  {
   "cell_type": "markdown",
   "metadata": {},
   "source": [
    "### Saving and loading a model\n",
    "\n",
    "We're happy with our models predictions, so let's save it to file so it can be used later.\n",
    "\n",
    "The [recommended way](https://pytorch.org/tutorials/beginner/saving_loading_models.html#saving-loading-model-for-inference) for saving and loading a model for inference (making predictions) is by saving and loading a model's `state_dict()`.\n",
    "\n",
    "Let's see how we can do that in a few steps:\n",
    "\n",
    "1. We'll create a directory for saving models to called `models` using Python's `pathlib` module.\n",
    "2. We'll create a file path to save the model to.\n",
    "3. We'll call `torch.save(obj, f)` where `obj` is the target model's `state_dict()` and `f` is the filename of where to save the model.\n",
    "\n",
    "> **Note:** It's common convention for PyTorch saved models or objects to end with `.pt` or `.pth`, like `saved_model_01.pth`.\n",
    "\n"
   ]
  },
  {
   "cell_type": "code",
   "execution_count": 42,
   "metadata": {},
   "outputs": [
    {
     "name": "stdout",
     "output_type": "stream",
     "text": [
      "Saving model to: models/01_pytorch_workflow_model_0.pth\n"
     ]
    }
   ],
   "source": [
    "from pathlib import Path\n",
    "\n",
    "# 1. Create models directory \n",
    "MODEL_PATH = Path(\"models\")\n",
    "MODEL_PATH.mkdir(parents=True, exist_ok=True)\n",
    "\n",
    "# 2. Create model save path \n",
    "MODEL_NAME = \"01_pytorch_workflow_model_0.pth\"\n",
    "MODEL_SAVE_PATH = MODEL_PATH / MODEL_NAME\n",
    "\n",
    "# 3. Save the model state dict \n",
    "print(f\"Saving model to: {MODEL_SAVE_PATH}\")\n",
    "torch.save(obj=model_0.state_dict(), # only saving the state_dict() only saves the models learned parameters\n",
    "           f=MODEL_SAVE_PATH) "
   ]
  },
  {
   "cell_type": "markdown",
   "metadata": {},
   "source": [
    "### Loading a saved PyTorch model's `state_dict()`\n",
    "\n",
    "Since we've now got a saved model `state_dict()` at `models/01_pytorch_workflow_model_0.pth` we can now load it in using `torch.nn.Module.load_state_dict(torch.load(f))` where `f` is the filepath of our saved model `state_dict()`.\n",
    "\n",
    "Why call `torch.load()` inside `torch.nn.Module.load_state_dict()`? \n",
    "\n",
    "Because we only saved the model's `state_dict()` which is a dictionary of learned parameters and not the *entire* model, we first have to load the `state_dict()` with `torch.load()` and then pass that `state_dict()` to a new instance of our model (which is a subclass of `nn.Module`).\n",
    "\n",
    "Why not save the entire model?\n",
    "\n",
    "[Saving the entire model](https://pytorch.org/tutorials/beginner/saving_loading_models.html#save-load-entire-model) rather than just the `state_dict()` is more intuitive, however, to quote the PyTorch documentation (italics mine):\n",
    "\n",
    "> The disadvantage of this approach *(saving the whole model)* is that the serialized data is bound to the specific classes and the exact directory structure used when the model is saved...\n",
    ">\n",
    "> Because of this, your code can break in various ways when used in other projects or after refactors.\n",
    "\n",
    "So instead, we're using the flexible method of saving and loading just the `state_dict()`, which again is basically a dictionary of model parameters.\n",
    "\n",
    "Let's test it out by created another instance of `LinearRegressionModel()`, which is a subclass of `torch.nn.Module` and will hence have the in-built method `load_state_dict()`."
   ]
  },
  {
   "cell_type": "code",
   "execution_count": 12,
   "metadata": {},
   "outputs": [
    {
     "data": {
      "text/plain": [
       "<All keys matched successfully>"
      ]
     },
     "execution_count": 12,
     "metadata": {},
     "output_type": "execute_result"
    }
   ],
   "source": [
    "# Instantiate a new instance of our model (this will be instantiated with random weights)\n",
    "loaded_model_0 = LinearRegressionModel()\n",
    "\n",
    "# Load the state_dict of our saved model (this will update the new instance of our model with trained weights)\n",
    "loaded_model_0.load_state_dict(torch.load(f=MODEL_SAVE_PATH))"
   ]
  },
  {
   "cell_type": "code",
   "execution_count": 15,
   "metadata": {},
   "outputs": [],
   "source": [
    "# 1. Put the loaded model into evaluation mode\n",
    "loaded_model_0.eval()\n",
    "\n",
    "# 2. Use the inference mode context manager to make predictions\n",
    "with torch.inference_mode():\n",
    "    loaded_model_preds = loaded_model_0(X_test) # perform a forward pass on the test data with the loaded model\n"
   ]
  },
  {
   "cell_type": "markdown",
   "metadata": {},
   "source": [
    "# Putting all information together"
   ]
  },
  {
   "cell_type": "code",
   "execution_count": 17,
   "metadata": {},
   "outputs": [
    {
     "name": "stdout",
     "output_type": "stream",
     "text": [
      "2.2.1\n"
     ]
    }
   ],
   "source": [
    "# Import PyTorch\n",
    "import torch\n",
    "from torch import nn\n",
    "print(torch.__version__)"
   ]
  },
  {
   "cell_type": "code",
   "execution_count": 18,
   "metadata": {},
   "outputs": [
    {
     "name": "stdout",
     "output_type": "stream",
     "text": [
      "Using device: mps\n"
     ]
    }
   ],
   "source": [
    "# Setup device agnostic code\n",
    "device = \"mps\" if torch.backends.mps.is_available() else \"cpu\"\n",
    "print(f\"Using device: {device}\")"
   ]
  },
  {
   "cell_type": "code",
   "execution_count": 19,
   "metadata": {},
   "outputs": [
    {
     "data": {
      "text/plain": [
       "(tensor([[0.0000],\n",
       "         [0.0200],\n",
       "         [0.0400],\n",
       "         [0.0600],\n",
       "         [0.0800],\n",
       "         [0.1000],\n",
       "         [0.1200],\n",
       "         [0.1400],\n",
       "         [0.1600],\n",
       "         [0.1800]]),\n",
       " tensor([[0.3000],\n",
       "         [0.3140],\n",
       "         [0.3280],\n",
       "         [0.3420],\n",
       "         [0.3560],\n",
       "         [0.3700],\n",
       "         [0.3840],\n",
       "         [0.3980],\n",
       "         [0.4120],\n",
       "         [0.4260]]))"
      ]
     },
     "execution_count": 19,
     "metadata": {},
     "output_type": "execute_result"
    }
   ],
   "source": [
    "# Create a dummy linear data\n",
    "# Create weight and bias\n",
    "weight = 0.7\n",
    "bias = 0.3\n",
    "\n",
    "# Create range values\n",
    "start = 0\n",
    "end = 1\n",
    "step = 0.02\n",
    "\n",
    "# Create X and y (features and labels)\n",
    "X = torch.arange(start, end, step).unsqueeze(dim=1) # without unsqueeze, errors will happen later on (shapes within linear layers)\n",
    "y = weight * X + bias \n",
    "X[:10], y[:10]"
   ]
  },
  {
   "cell_type": "code",
   "execution_count": 35,
   "metadata": {},
   "outputs": [
    {
     "data": {
      "text/plain": [
       "(40, 40, 10, 10)"
      ]
     },
     "execution_count": 35,
     "metadata": {},
     "output_type": "execute_result"
    }
   ],
   "source": [
    "# Split data\n",
    "train_split = int(0.8 * len(X))\n",
    "X_train, y_train = X[:train_split], y[:train_split]\n",
    "X_test, y_test = X[train_split:], y[train_split:]\n",
    "\n",
    "len(X_train), len(y_train), len(X_test), len(y_test)"
   ]
  },
  {
   "cell_type": "markdown",
   "metadata": {},
   "source": [
    "A `linear layer`, often referred to as a fully connected layer or dense layer in neural networks, applies a linear transformation to the incoming data. It does this by multiplying the input by a weight matrix and then adding a bias vector. This layer does not apply any *non-linearity* or *activation function* on its own; it simply computes linear transformation."
   ]
  },
  {
   "cell_type": "markdown",
   "metadata": {},
   "source": [
    "nn.Linear() her neuron'da sadece linear regresyon modeli kuran bir layer ekler. Eğer in_features ve out_features 1 olarak atanırsa, bunun tek bir input alıp tek bir çıktı dönen tek bir linear regresyon modelinden hiçbir farkı olmaz."
   ]
  },
  {
   "cell_type": "markdown",
   "metadata": {},
   "source": [
    "`Thanks to GPT`\n",
    "Bir nöronun çıktısının vektör olması genel bir durum değildir; aslında, tek bir nöronun çıktısı genellikle tek bir skalar değerdir. Bir katmandaki birden fazla nöronun çıktıları bir araya geldiğinde bir vektör oluşturur, ancak her bir nöron kendi başına yalnızca bir skalar değer üretir. Bu nedenle, bir nöronun çıktısını vektör olarak düşünmek yerine, katman çıktılarını vektör veya matris olarak ele almak daha doğru olacaktır."
   ]
  },
  {
   "cell_type": "code",
   "execution_count": 36,
   "metadata": {},
   "outputs": [
    {
     "data": {
      "text/plain": [
       "(LinearRegressionModelV2(\n",
       "   (linear_layer): Linear(in_features=1, out_features=1, bias=True)\n",
       " ),\n",
       " OrderedDict([('linear_layer.weight', tensor([[0.7645]])),\n",
       "              ('linear_layer.bias', tensor([0.8300]))]))"
      ]
     },
     "execution_count": 36,
     "metadata": {},
     "output_type": "execute_result"
    }
   ],
   "source": [
    "class LinearRegressionModelV2(nn.Module):\n",
    "    def __init__(self):\n",
    "        super().__init__()\n",
    "        # Use nn.Linear() for creating the model parameters\n",
    "        self.linear_layer = nn.Linear(in_features=1,\n",
    "                                      out_features=1)\n",
    "    def forward(self, x: torch.Tensor) -> torch.Tensor:\n",
    "        return self.linear_layer(x)\n",
    "\n",
    "# Set the manual seed when creating the model (this isn't always need but is used for demonstrative purposes, try commenting it out and seeing what happens)\n",
    "model_1 = LinearRegressionModelV2()\n",
    "model_1, model_1.state_dict() # It will print random initial paramteter values"
   ]
  },
  {
   "cell_type": "code",
   "execution_count": 37,
   "metadata": {},
   "outputs": [
    {
     "data": {
      "text/plain": [
       "device(type='mps', index=0)"
      ]
     },
     "execution_count": 37,
     "metadata": {},
     "output_type": "execute_result"
    }
   ],
   "source": [
    "# Check model device\n",
    "next(model_1.parameters()).device # cpu\n",
    "model_1.to(device)\n",
    "next(model_1.parameters()).device # mps(gpu)"
   ]
  },
  {
   "cell_type": "code",
   "execution_count": 38,
   "metadata": {},
   "outputs": [],
   "source": [
    "# Create a loss function\n",
    "loss_fn = nn.L1Loss()\n",
    "# Create a optimizer\n",
    "optimizer = torch.optim.SGD(params=model_1.parameters(),\n",
    "                            lr = 0.01)"
   ]
  },
  {
   "cell_type": "code",
   "execution_count": 40,
   "metadata": {},
   "outputs": [
    {
     "name": "stdout",
     "output_type": "stream",
     "text": [
      "Epoch: 0 | Train loss: 0.5436569452285767 | Test loss: 0.560505211353302\n",
      "Epoch: 100 | Train loss: 0.0058781662955880165 | Test loss: 0.012984687462449074\n",
      "Epoch: 200 | Train loss: 0.010256483219563961 | Test loss: 0.00033082367735914886\n",
      "Epoch: 300 | Train loss: 0.010256483219563961 | Test loss: 0.00033082367735914886\n",
      "Epoch: 400 | Train loss: 0.010256483219563961 | Test loss: 0.00033082367735914886\n",
      "Epoch: 500 | Train loss: 0.010256483219563961 | Test loss: 0.00033082367735914886\n",
      "Epoch: 600 | Train loss: 0.010256483219563961 | Test loss: 0.00033082367735914886\n",
      "Epoch: 700 | Train loss: 0.010256483219563961 | Test loss: 0.00033082367735914886\n",
      "Epoch: 800 | Train loss: 0.010256483219563961 | Test loss: 0.00033082367735914886\n",
      "Epoch: 900 | Train loss: 0.010256483219563961 | Test loss: 0.00033082367735914886\n"
     ]
    }
   ],
   "source": [
    "torch.manual_seed(42)\n",
    "\n",
    "# Set the number of epochs\n",
    "epochs = 1000\n",
    "\n",
    "# Data and model should be on the same device (or error appear)\n",
    "X_train = X_train.to(device)\n",
    "X_test = X_test.to(device)\n",
    "y_train = y_train.to(device)\n",
    "y_test = y_test.to(device)\n",
    "\n",
    "for epoch in range(epochs):\n",
    "    model_1.train()\n",
    "    \n",
    "    # 1. Forward pass\n",
    "    y_pred = model_1(X_train)\n",
    "    \n",
    "    # 2. Calculate loss\n",
    "    loss = loss_fn(y_pred, y_train)\n",
    "    \n",
    "    # 3. Zero grad optimizer\n",
    "    optimizer.zero_grad()\n",
    "    \n",
    "    # 4. Loss backward\n",
    "    loss.backward()\n",
    "    \n",
    "    # 5. Step the optimizer (perform gradient descent)\n",
    "    optimizer.step()\n",
    "    \n",
    "    ### Testing\n",
    "    model_1.eval() # put the model in evaluation mode for testing (inference)\n",
    "    with torch.inference_mode():\n",
    "        test_pred = model_1(X_test)\n",
    "        test_loss = loss_fn(test_pred, y_test)\n",
    "    if epoch % 100 == 0:\n",
    "        print(f\"Epoch: {epoch} | Train loss: {loss} | Test loss: {test_loss}\")\n"
   ]
  },
  {
   "cell_type": "code",
   "execution_count": null,
   "metadata": {},
   "outputs": [],
   "source": []
  }
 ],
 "metadata": {
  "kernelspec": {
   "display_name": "pytorch_env",
   "language": "python",
   "name": "python3"
  },
  "language_info": {
   "codemirror_mode": {
    "name": "ipython",
    "version": 3
   },
   "file_extension": ".py",
   "mimetype": "text/x-python",
   "name": "python",
   "nbconvert_exporter": "python",
   "pygments_lexer": "ipython3",
   "version": "3.12.1"
  }
 },
 "nbformat": 4,
 "nbformat_minor": 2
}
